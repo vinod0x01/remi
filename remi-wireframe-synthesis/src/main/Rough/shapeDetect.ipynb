{
 "cells": [
  {
   "cell_type": "code",
   "id": "initial_id",
   "metadata": {
    "collapsed": true,
    "ExecuteTime": {
     "end_time": "2024-08-18T07:54:16.042255Z",
     "start_time": "2024-08-18T07:54:16.034744Z"
    }
   },
   "source": [
    "import os\n",
    "import cv2\n",
    "import imutils\n",
    "import numpy as np"
   ],
   "outputs": [],
   "execution_count": 52
  },
  {
   "metadata": {
    "ExecuteTime": {
     "end_time": "2024-08-18T07:54:16.487007Z",
     "start_time": "2024-08-18T07:54:16.480594Z"
    }
   },
   "cell_type": "code",
   "source": [
    "def showImage(img, img_alt=\"img\"):\n",
    "  cv2.imshow(img_alt, img)\n",
    "  cv2.waitKey(0)\n",
    "  cv2.destroyAllWindows()"
   ],
   "id": "f80840fbeac0d622",
   "outputs": [],
   "execution_count": 53
  },
  {
   "metadata": {
    "ExecuteTime": {
     "end_time": "2024-08-18T08:30:11.087926Z",
     "start_time": "2024-08-18T08:30:11.079542Z"
    }
   },
   "cell_type": "code",
   "source": [
    "count = -1\n",
    "cl = [\n",
    "  (255,255,0), (0,255,255), (255,0,255), (255,255,255), (255,127,80), (100,149,237)\n",
    "]\n",
    "def get_cl(count):\n",
    "  return cl[count%len(cl)]"
   ],
   "id": "44f8bd6f4e28d00b",
   "outputs": [],
   "execution_count": 177
  },
  {
   "metadata": {
    "ExecuteTime": {
     "end_time": "2024-08-21T18:40:36.762621Z",
     "start_time": "2024-08-21T18:40:36.735462Z"
    }
   },
   "cell_type": "code",
   "source": [
    "class ShapeDetector:\n",
    "  \n",
    "  def __init__(self):\n",
    "    self.count = -1\n",
    "  \n",
    "  def detect(self, c):\n",
    "    \n",
    "    shape = \"undefined\"\n",
    "    peri = cv2.arcLength(c, True)\n",
    "    approx = cv2.approxPolyDP(c, 0.04 * peri, True)\n",
    "    shapeLen = len(approx)\n",
    "    if shapeLen == 3:\n",
    "      shape = \"triangle\"\n",
    "    elif shapeLen == 4:\n",
    "      shape = \"square\"\n",
    "      (x, y, w, h) = cv2.boundingRect(approx)\n",
    "      ar = w / float(h)\n",
    "      shape = \"square\" if ar >= 0.95 and ar <= 1.05 else \"rectangle\"\n",
    "    elif shapeLen == 5:\n",
    "      shape = \"pentagon\"\n",
    "    elif shapeLen == 6:\n",
    "      shape = \"hexagon\"\n",
    "    elif shapeLen == 7:\n",
    "      shape = \"heptagon\"\n",
    "    elif shapeLen == 8:\n",
    "      shape = \"octagon\"\n",
    "    else:\n",
    "      shape = \"circle\"\n",
    "      \n",
    "    return shape\n",
    "  \n",
    "  def preProcess(self, img):\n",
    "    \n",
    "    gray = cv2.cvtColor(img, cv2.COLOR_RGB2GRAY)\n",
    "    showImage(gray, \"gray\")\n",
    "    blurred = cv2.GaussianBlur(gray, (7, 7), 0)\n",
    "    showImage(blurred, \"blurred\")\n",
    "    # thresh = cv2.threshold(blurred, 100, 200, cv2.THRESH_OTSU)[1]\n",
    "    edges = cv2.Canny(blurred, 20, 150)\n",
    "    showImage(edges, \"edges\")\n",
    "    dilated = cv2.dilate(edges.copy(), np.ones((7, 7), np.uint8), iterations=1)\n",
    "    showImage(dilated, \"dilated\")\n",
    "    eroded = cv2.erode(dilated, np.ones((3, 3), np.uint8), iterations=3)\n",
    "    # eroded = cv2.erode(edges.copy(), np.ones((3, 3), np.uint8), iterations=1)\n",
    "    showImage(eroded, \"eroded\")\n",
    "    cnts = cv2.findContours(eroded.copy(), cv2.RETR_EXTERNAL, cv2.CHAIN_APPROX_SIMPLE)\n",
    "    cnts = imutils.grab_contours(cnts)\n",
    "    minArea = 2000\n",
    "    img_copy = img.copy()\n",
    "    obj_rects = []\n",
    "    for c in cnts:\n",
    "      # shape = self.detect(c)\n",
    "      area = cv2.contourArea(c)\n",
    "      print(f\"TYPE : {type(c)}, SHAPE: {c[0]}\")\n",
    "      \n",
    "      if area > minArea:\n",
    "        obj_rects.append(self.getRect(c.copy()))\n",
    "        \n",
    "        epsilon = 0.06 * cv2.arcLength(c, True)\n",
    "        approx = cv2.approxPolyDP(c, epsilon, True)\n",
    "        cv2.drawContours(img_copy, [c], -1, get_cl(self.count), 3)\n",
    "        self.count += 1\n",
    "        # if len(approx) > 4:\n",
    "        #   approx = cv2.approxPolyDP(c, cv2.arcLength(c, True) * 0.02, True)\n",
    "        #   approx = cv2.approxPolyDP(approx, epsilon, True)\n",
    "        # if len(approx) == 4:\n",
    "        #   cv2.drawContours(img, [approx], -1, (0, 255, 0), 2)\n",
    "        # else:\n",
    "        #   cv2.drawContours(img, [approx], -1, get_cl(self.count), 1)\n",
    "        #   self.count+=1\n",
    "        \n",
    "        \n",
    "      else:\n",
    "        cv2.drawContours(img_copy, [c], -1, (255, 0, 0), 1)\n",
    "    \n",
    "    showImage(img_copy, \"final\")\n",
    "    self.draw_rects(img, obj_rects)\n",
    "  \n",
    "  def getRect(self, points):\n",
    "    reshaped_points = points.reshape(-1, 2)\n",
    "    min_x = np.min(reshaped_points[:, 0])\n",
    "    min_y = np.min(reshaped_points[:, 1])\n",
    "    max_x = np.max(reshaped_points[:, 0])\n",
    "    max_y = np.max(reshaped_points[:, 1])\n",
    "    \n",
    "    return [[min_x, min_y], [max_x, max_y]]\n",
    "  \n",
    "  def draw_rects(self, img, rectPoints):\n",
    "    for rect in rectPoints:\n",
    "      cv2.rectangle(img, rect[0], rect[1], (0, 255, 0), 3)\n",
    "      showImage(cv2.cvtColor(img, cv2.COLOR_RGB2BGR), \"rects\")"
   ],
   "id": "45099745ab81475f",
   "outputs": [],
   "execution_count": 27
  },
  {
   "metadata": {
    "ExecuteTime": {
     "end_time": "2024-08-18T16:23:47.805051Z",
     "start_time": "2024-08-18T16:23:47.795806Z"
    }
   },
   "cell_type": "code",
   "source": [
    "PROJECT_DIR = \"/Users/vinodpatil/LAB/UPGRAD/Masters/FINAL_THESIS_WRITING/APP/remi-wireframe-synthesis\"\n",
    "IMG_MAIN_PATH = os.path.join(PROJECT_DIR, \"src/main/resources/sampleImages/set1\")\n",
    "imageNames = [\"pan-gen.jpg\"]"
   ],
   "id": "c557719c5828b6c5",
   "outputs": [],
   "execution_count": 366
  },
  {
   "metadata": {
    "ExecuteTime": {
     "end_time": "2024-08-18T16:23:53.364199Z",
     "start_time": "2024-08-18T16:23:48.205096Z"
    }
   },
   "cell_type": "code",
   "source": [
    "obj = ShapeDetector()\n",
    "for imageName in imageNames:\n",
    "  imgPath = os.path.join(IMG_MAIN_PATH, imageName)\n",
    "  img = cv2.imread(imgPath)\n",
    "  img = cv2.cvtColor(img, cv2.COLOR_BGR2RGB)\n",
    "  showImage(img, \"initial\")\n",
    "  img = cv2.resize(img, (512, 512), interpolation=cv2.INTER_AREA)\n",
    "  obj.preProcess(img)"
   ],
   "id": "1235d979d67d7b92",
   "outputs": [
    {
     "name": "stdout",
     "output_type": "stream",
     "text": [
      "TYPE : <class 'numpy.ndarray'>, SHAPE: [[428 369]]\n",
      "TYPE : <class 'numpy.ndarray'>, SHAPE: [[291 348]]\n",
      "TYPE : <class 'numpy.ndarray'>, SHAPE: [[357 116]]\n",
      "TYPE : <class 'numpy.ndarray'>, SHAPE: [[383   0]]\n",
      "TYPE : <class 'numpy.ndarray'>, SHAPE: [[313   0]]\n",
      "TYPE : <class 'numpy.ndarray'>, SHAPE: [[0 0]]\n"
     ]
    }
   ],
   "execution_count": 367
  },
  {
   "metadata": {
    "ExecuteTime": {
     "end_time": "2024-08-21T18:37:12.371699Z",
     "start_time": "2024-08-21T18:37:12.362583Z"
    }
   },
   "cell_type": "code",
   "source": [
    "import yaml\n",
    "import os"
   ],
   "id": "341c3dc48b086f04",
   "outputs": [],
   "execution_count": 17
  },
  {
   "metadata": {
    "ExecuteTime": {
     "end_time": "2024-08-21T18:37:12.795430Z",
     "start_time": "2024-08-21T18:37:12.788129Z"
    }
   },
   "cell_type": "code",
   "source": "yaml_path=os.path.abspath(\"/Users/vinodpatil/LAB/UPGRAD/Masters/FINAL_THESIS_WRITING/APP/remi-wireframe-synthesis/src/main/resources/properties.yaml\")",
   "id": "1390098cf32e23fa",
   "outputs": [],
   "execution_count": 18
  },
  {
   "metadata": {
    "ExecuteTime": {
     "end_time": "2024-08-22T13:00:28.388855Z",
     "start_time": "2024-08-22T13:00:28.355329Z"
    }
   },
   "cell_type": "code",
   "source": [
    "with open(yaml_path, 'r') as rf:\n",
    "  data = yaml.safe_load(rf)"
   ],
   "id": "18cef1acbdb6eb7a",
   "outputs": [],
   "execution_count": 29
  },
  {
   "metadata": {
    "ExecuteTime": {
     "end_time": "2024-08-22T13:00:28.755992Z",
     "start_time": "2024-08-22T13:00:28.724859Z"
    }
   },
   "cell_type": "code",
   "source": "data",
   "id": "d05abb53524d0b58",
   "outputs": [
    {
     "data": {
      "text/plain": [
       "{'DetectRacks': {'blur': {'kernal': [7, 7]},\n",
       "  'edge': {'canny': {'tLower': 20,\n",
       "    'tUpper': 150,\n",
       "    'apertureSize': 3,\n",
       "    'l2Gradient': True}},\n",
       "  'dilate': {'Kernel': [7, 7], 'iterations': 1},\n",
       "  'erode': {'Kernel': [3, 3], 'iterations': 3},\n",
       "  'minArea': 2000,\n",
       "  'boundingBox': {'color': [0, 255, 0], 'thickness': 1}}}"
      ]
     },
     "execution_count": 30,
     "metadata": {},
     "output_type": "execute_result"
    }
   ],
   "execution_count": 30
  },
  {
   "metadata": {
    "ExecuteTime": {
     "end_time": "2024-08-22T13:00:57.743374Z",
     "start_time": "2024-08-22T13:00:57.728257Z"
    }
   },
   "cell_type": "code",
   "source": "type(data['DetectRacks']['edge']['canny']['l2Gradient'])",
   "id": "df6a2e09d3ad562",
   "outputs": [
    {
     "data": {
      "text/plain": [
       "bool"
      ]
     },
     "execution_count": 32,
     "metadata": {},
     "output_type": "execute_result"
    }
   ],
   "execution_count": 32
  },
  {
   "metadata": {
    "ExecuteTime": {
     "end_time": "2024-08-21T18:41:01.647913Z",
     "start_time": "2024-08-21T18:41:01.634679Z"
    }
   },
   "cell_type": "code",
   "source": [
    "sb = ShapeDetector()\n",
    "sb.__class__.__name__"
   ],
   "id": "bb32ed849e864523",
   "outputs": [
    {
     "data": {
      "text/plain": [
       "'ShapeDetector'"
      ]
     },
     "execution_count": 28,
     "metadata": {},
     "output_type": "execute_result"
    }
   ],
   "execution_count": 28
  },
  {
   "metadata": {
    "ExecuteTime": {
     "end_time": "2024-08-22T16:53:48.229645Z",
     "start_time": "2024-08-22T16:53:48.206305Z"
    }
   },
   "cell_type": "code",
   "source": [
    "import os\n",
    "import sys"
   ],
   "id": "7b7c79708104d2b1",
   "outputs": [],
   "execution_count": 64
  },
  {
   "metadata": {
    "ExecuteTime": {
     "end_time": "2024-08-22T16:53:48.702971Z",
     "start_time": "2024-08-22T16:53:48.697449Z"
    }
   },
   "cell_type": "code",
   "source": [
    "module_paths = [\n",
    "  \"/Users/vinodpatil/LAB/UPGRAD/Masters/FINAL_THESIS_WRITING/APP/remi-wireframe-synthesis/src/main/python\",\n",
    "               ]"
   ],
   "id": "cc45f237cbf50faa",
   "outputs": [],
   "execution_count": 65
  },
  {
   "metadata": {
    "ExecuteTime": {
     "end_time": "2024-08-22T16:54:20.143136Z",
     "start_time": "2024-08-22T16:54:20.136949Z"
    }
   },
   "cell_type": "code",
   "source": [
    "for module_path in module_paths:\n",
    "  if module_path not in sys.path:\n",
    "    sys.path.append(module_path)"
   ],
   "id": "a2599b82f209a2a7",
   "outputs": [],
   "execution_count": 67
  },
  {
   "metadata": {
    "ExecuteTime": {
     "end_time": "2024-08-22T16:54:31.819062Z",
     "start_time": "2024-08-22T16:54:31.802026Z"
    }
   },
   "cell_type": "code",
   "source": [
    "import utils.loadProperties as lp\n",
    "propertyFilePath = \"/Users/vinodpatil/LAB/UPGRAD/Masters/FINAL_THESIS_WRITING/APP/remi-wireframe-synthesis/src/main/resources/properties.yaml\""
   ],
   "id": "84092239ab41c60b",
   "outputs": [],
   "execution_count": 68
  },
  {
   "metadata": {
    "ExecuteTime": {
     "end_time": "2024-08-22T16:54:34.638726Z",
     "start_time": "2024-08-22T16:54:34.621423Z"
    }
   },
   "cell_type": "code",
   "source": "data = lp.loadProperties(propertyFilePath)",
   "id": "91c8e5a1520d5476",
   "outputs": [],
   "execution_count": 69
  },
  {
   "metadata": {
    "ExecuteTime": {
     "end_time": "2024-08-22T16:54:36.656523Z",
     "start_time": "2024-08-22T16:54:36.643313Z"
    }
   },
   "cell_type": "code",
   "source": "data.keys()",
   "id": "fd6db8b453e2939e",
   "outputs": [
    {
     "data": {
      "text/plain": [
       "dict_keys(['DetectRacks'])"
      ]
     },
     "execution_count": 70,
     "metadata": {},
     "output_type": "execute_result"
    }
   ],
   "execution_count": 70
  },
  {
   "metadata": {
    "ExecuteTime": {
     "end_time": "2024-08-22T16:54:39.112447Z",
     "start_time": "2024-08-22T16:54:39.094194Z"
    }
   },
   "cell_type": "code",
   "source": "data = lp.loadProperties(propertyFilePath, True, \"DetectRacks\")",
   "id": "b274433507bfc198",
   "outputs": [],
   "execution_count": 71
  },
  {
   "metadata": {
    "ExecuteTime": {
     "end_time": "2024-08-22T16:54:39.698200Z",
     "start_time": "2024-08-22T16:54:39.685480Z"
    }
   },
   "cell_type": "code",
   "source": "data",
   "id": "7fddc53d2f323d5e",
   "outputs": [
    {
     "data": {
      "text/plain": [
       "{'blur': {'kernal': [7, 7]},\n",
       " 'edge': {'canny': {'tLower': 20,\n",
       "   'tUpper': 150,\n",
       "   'apertureSize': 3,\n",
       "   'l2Gradient': True}},\n",
       " 'dilate': {'Kernel': [7, 7], 'iterations': 1},\n",
       " 'erode': {'Kernel': [3, 3], 'iterations': 3},\n",
       " 'minArea': 2000,\n",
       " 'boundingBox': {'color': [0, 255, 0], 'thickness': 1}}"
      ]
     },
     "execution_count": 72,
     "metadata": {},
     "output_type": "execute_result"
    }
   ],
   "execution_count": 72
  },
  {
   "metadata": {
    "ExecuteTime": {
     "end_time": "2024-08-23T11:25:10.692016Z",
     "start_time": "2024-08-23T11:25:10.670790Z"
    }
   },
   "cell_type": "code",
   "source": [
    "import os\n",
    "import sys\n",
    "\n",
    "os.environ[\"PROPERTY_FILE_PATH\"] = \"/Users/vinodpatil/LAB/UPGRAD/Masters/FINAL_THESIS_WRITING/APP/remi-wireframe-synthesis/src/main/resources/properties.yaml\"\n",
    "\n",
    "os.environ[\"ENVIRONMENT\"] =  \"local\"\n",
    "\n",
    "module_paths = [\n",
    "  \"/Users/vinodpatil/LAB/UPGRAD/Masters/FINAL_THESIS_WRITING/APP/remi-wireframe-synthesis/src/main/python\",\n",
    "               ]\n",
    "\n",
    "for module_path in module_paths:\n",
    "  assert os.path.exists(module_path), f\"module path {module_path} does not exist\"\n",
    "  \n",
    "  if module_path not in sys.path:\n",
    "    sys.path.append(module_path)\n"
   ],
   "id": "ea79ae478bf1e17d",
   "outputs": [],
   "execution_count": 1
  },
  {
   "metadata": {
    "ExecuteTime": {
     "end_time": "2024-08-23T11:25:11.231180Z",
     "start_time": "2024-08-23T11:25:11.214607Z"
    }
   },
   "cell_type": "code",
   "source": [
    "PROJECT_DIR = \"/Users/vinodpatil/LAB/UPGRAD/Masters/FINAL_THESIS_WRITING/APP/remi-wireframe-synthesis\"\n",
    "IMG_MAIN_PATH = os.path.join(PROJECT_DIR, \"src/main/resources/sampleImages/set1\")\n",
    "imageNames = [\"p1.jpg\"]\n"
   ],
   "id": "5919e01d851683ee",
   "outputs": [],
   "execution_count": 2
  },
  {
   "metadata": {
    "ExecuteTime": {
     "end_time": "2024-08-23T11:25:18.743411Z",
     "start_time": "2024-08-23T11:25:11.692035Z"
    }
   },
   "cell_type": "code",
   "source": [
    "# rack detector driver\n",
    "import cv2\n",
    "import utils.loadProperties as lp\n",
    "import utils.localRunHelpers as lr\n",
    "from RacksDetection import DetectRacks\n",
    "\n",
    "\n",
    "commonProps=lp.loadProperties(os.getenv(\"PROPERTY_FILE_PATH\"),True,\"Common\")\n",
    "\n",
    "detector = DetectRacks.DetectRacks()\n",
    "for imageName in imageNames:\n",
    "  imgPath = os.path.join(IMG_MAIN_PATH, imageName)\n",
    "  img = cv2.imread(imgPath)\n",
    "  img = cv2.cvtColor(img, cv2.COLOR_BGR2RGB)\n",
    "  lr.showImage(img, \"initial\")\n",
    "  img = cv2.resize(img, commonProps[\"resizeKernal\"], interpolation=cv2.INTER_AREA)\n",
    "  lr.showImage(img, \"resized\")\n",
    "  rectangles = detector.findBoxes(img)\n",
    "  print(rectangles)"
   ],
   "id": "bed5d04742d4ddc9",
   "outputs": [
    {
     "name": "stdout",
     "output_type": "stream",
     "text": [
      "[[[367, 195], [484, 436]], [[14, 153], [505, 511]], [[14, 0], [503, 163]]]\n"
     ]
    }
   ],
   "execution_count": 3
  },
  {
   "metadata": {
    "ExecuteTime": {
     "end_time": "2024-08-23T10:32:02.030672Z",
     "start_time": "2024-08-23T10:32:02.016433Z"
    }
   },
   "cell_type": "code",
   "source": "type(rectangles)",
   "id": "be143201d12d0749",
   "outputs": [
    {
     "data": {
      "text/plain": [
       "NoneType"
      ]
     },
     "execution_count": 13,
     "metadata": {},
     "output_type": "execute_result"
    }
   ],
   "execution_count": 13
  },
  {
   "metadata": {
    "ExecuteTime": {
     "end_time": "2024-08-22T17:42:15.404739Z",
     "start_time": "2024-08-22T17:42:15.386082Z"
    }
   },
   "cell_type": "code",
   "source": "",
   "id": "c73a606237ed0db4",
   "outputs": [
    {
     "data": {
      "text/plain": [
       "{'blur': {'kernal': [7, 7], 'sigmaX': 0},\n",
       " 'edge': {'canny': {'tLower': 20,\n",
       "   'tUpper': 150,\n",
       "   'apertureSize': 3,\n",
       "   'l2Gradient': False}},\n",
       " 'dilate': {'Kernel': [7, 7], 'iterations': 1},\n",
       " 'erode': {'Kernel': [3, 3], 'iterations': 3},\n",
       " 'minArea': 2000,\n",
       " 'boundingBox': {'color': [0, 255, 0], 'thickness': 1}}"
      ]
     },
     "execution_count": 91,
     "metadata": {},
     "output_type": "execute_result"
    }
   ],
   "execution_count": 91
  },
  {
   "metadata": {
    "ExecuteTime": {
     "end_time": "2024-08-25T07:02:12.903765Z",
     "start_time": "2024-08-25T07:02:12.893969Z"
    }
   },
   "cell_type": "code",
   "source": [
    "import os\n",
    "import base64\n",
    "PROJECT_DIR = \"/Users/vinodpatil/LAB/UPGRAD/Masters/FINAL_THESIS_WRITING/APP/remi-wireframe-synthesis\"\n",
    "IMG_MAIN_PATH = os.path.join(PROJECT_DIR, \"src/main/resources/sampleImages/set1\")\n",
    "imageNames = [\"p1.jpg\"]"
   ],
   "id": "5734215073582913",
   "outputs": [],
   "execution_count": 6
  },
  {
   "metadata": {
    "ExecuteTime": {
     "end_time": "2024-08-25T07:03:47.732809Z",
     "start_time": "2024-08-25T07:03:47.692143Z"
    }
   },
   "cell_type": "code",
   "source": [
    "image_path = os.path.join(IMG_MAIN_PATH, imageNames[0])\n",
    "with open(image_path, 'rb') as rf:\n",
    "  data = rf.read()\n",
    "\n",
    "b64data = base64.b64encode(data).decode('utf-8')\n",
    "with open(\"b64_img.txt\", \"w\") as wf:\n",
    "  wf.write(b64data)"
   ],
   "id": "a6615797a7ef9278",
   "outputs": [],
   "execution_count": 12
  },
  {
   "metadata": {
    "ExecuteTime": {
     "end_time": "2024-08-30T19:58:31.539052Z",
     "start_time": "2024-08-30T19:58:31.522656Z"
    }
   },
   "cell_type": "code",
   "source": [
    "import os\n",
    "import base64\n",
    "import cv2\n",
    "import numpy as np\n",
    "import json\n",
    "PROJECT_DIR = \"/Users/vinodpatil/LAB/UPGRAD/Masters/FINAL_THESIS_WRITING/APP/remi-wireframe-synthesis\"\n",
    "IMAGE_PATH = \"src/main/Rough/recieved.txt\"\n",
    "b64_path = os.path.join(PROJECT_DIR, IMAGE_PATH)\n",
    "def showImage(img, img_alt=\"img\"):\n",
    "  cv2.imshow(img_alt, img)\n",
    "  cv2.waitKey(0)\n",
    "  cv2.destroyAllWindows()"
   ],
   "id": "2d02f0e1f2d2730c",
   "outputs": [],
   "execution_count": 6
  },
  {
   "metadata": {
    "ExecuteTime": {
     "end_time": "2024-08-30T19:57:03.712452Z",
     "start_time": "2024-08-30T19:56:58.461785Z"
    }
   },
   "cell_type": "code",
   "source": [
    "with open(b64_path, 'r') as rf:\n",
    "  bytes = rf.read()\n",
    "  data = base64.b64decode(bytes)\n",
    "  nd_array = np.frombuffer(data, dtype=np.uint8)\n",
    "  img = cv2.imdecode(nd_array, cv2.IMREAD_COLOR)\n",
    "  showImage(img)\n",
    "  "
   ],
   "id": "9387591ad7859479",
   "outputs": [],
   "execution_count": 4
  },
  {
   "metadata": {
    "ExecuteTime": {
     "end_time": "2024-08-30T19:58:48.885371Z",
     "start_time": "2024-08-30T19:58:37.514021Z"
    }
   },
   "cell_type": "code",
   "source": [
    "RESPONSE_FILE = os.path.join(PROJECT_DIR, \"src/main/Rough/response.json\")\n",
    "with open(RESPONSE_FILE, 'r') as rf:\n",
    "  json_data = json.load(rf)\n",
    "  points = json_data[\"coordinates\"]\n",
    "  bytes = json_data[\"image\"]\n",
    "  data = base64.b64decode(bytes)\n",
    "  nd_array = np.frombuffer(data, dtype=np.uint8)\n",
    "  img = cv2.imdecode(nd_array, cv2.IMREAD_COLOR)\n",
    "  for point in points:\n",
    "    cv2.rectangle(img, point[0], point[1], (0, 255, 0), 2)\n",
    "  showImage(img)"
   ],
   "id": "7fde0bd7c72fd560",
   "outputs": [],
   "execution_count": 7
  },
  {
   "metadata": {
    "ExecuteTime": {
     "end_time": "2024-08-30T19:25:37.066787Z",
     "start_time": "2024-08-30T19:25:37.053595Z"
    }
   },
   "cell_type": "code",
   "source": [
    "def print_args(*args, **kwargs):\n",
    "  if args:\n",
    "    print(args[0])\n",
    "\n",
    "print_args(\"qwqwq\", 2, 3, \"hello\")"
   ],
   "id": "9c68e14b5244ef83",
   "outputs": [
    {
     "name": "stdout",
     "output_type": "stream",
     "text": [
      "qwqwq\n"
     ]
    }
   ],
   "execution_count": 2
  },
  {
   "metadata": {},
   "cell_type": "code",
   "outputs": [],
   "execution_count": null,
   "source": "",
   "id": "43a9f7fcf25bb751"
  }
 ],
 "metadata": {
  "kernelspec": {
   "display_name": "Python 3",
   "language": "python",
   "name": "python3"
  },
  "language_info": {
   "codemirror_mode": {
    "name": "ipython",
    "version": 2
   },
   "file_extension": ".py",
   "mimetype": "text/x-python",
   "name": "python",
   "nbconvert_exporter": "python",
   "pygments_lexer": "ipython2",
   "version": "2.7.6"
  }
 },
 "nbformat": 4,
 "nbformat_minor": 5
}
